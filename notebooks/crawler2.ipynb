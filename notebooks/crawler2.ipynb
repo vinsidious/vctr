{
 "cells": [
  {
   "cell_type": "code",
   "execution_count": 6,
   "metadata": {},
   "outputs": [],
   "source": [
    "import requests\n",
    "from bs4 import BeautifulSoup\n",
    "from tqdm import tqdm\n",
    "from concurrent.futures import ThreadPoolExecutor\n",
    "\n",
    "def extract_links_from_page(url):\n",
    "    try:\n",
    "        response = requests.get(url)\n",
    "    except:\n",
    "        return set()\n",
    "    soup = BeautifulSoup(response.content, 'html.parser')\n",
    "    links = set()\n",
    "    for link in soup.find_all('a'):\n",
    "        href = link.get('href')\n",
    "        if href and href.startswith(url) and '#' not in href:\n",
    "            if href[-1] == '/':\n",
    "                href = href[:-1]\n",
    "            links.add(href)\n",
    "    return links\n",
    "\n",
    "def crawl_domain(base_url):\n",
    "    visited = set()\n",
    "    queue = set([base_url])\n",
    "    with ThreadPoolExecutor(max_workers=10) as executor:\n",
    "        while queue:\n",
    "            url = queue.pop()\n",
    "            visited.add(url)\n",
    "            links = executor.submit(extract_links_from_page, url).result()\n",
    "            new_links = links - visited\n",
    "            queue.update(new_links)\n",
    "            tqdm.write(f\"{len(visited)} discovered from {len(queue)} queued urls\", end='\\r')\n",
    "    return visited\n"
   ]
  },
  {
   "cell_type": "code",
   "execution_count": 7,
   "metadata": {},
   "outputs": [
    {
     "name": "stdout",
     "output_type": "stream",
     "text": [
      "160 discovered from 0 queued urlss\r"
     ]
    }
   ],
   "source": [
    "links = crawl_domain('https://vectorbt.pro/pvt_d904e513')"
   ]
  },
  {
   "cell_type": "code",
   "execution_count": 11,
   "metadata": {},
   "outputs": [],
   "source": [
    "# Save list to a file\n",
    "import pickle\n",
    "with open('list_file.pickle', 'wb') as f:\n",
    "    pickle.dump(links, f)"
   ]
  }
 ],
 "metadata": {
  "kernelspec": {
   "display_name": "v2",
   "language": "python",
   "name": "python3"
  },
  "language_info": {
   "codemirror_mode": {
    "name": "ipython",
    "version": 3
   },
   "file_extension": ".py",
   "mimetype": "text/x-python",
   "name": "python",
   "nbconvert_exporter": "python",
   "pygments_lexer": "ipython3",
   "version": "3.10.8"
  },
  "orig_nbformat": 4
 },
 "nbformat": 4,
 "nbformat_minor": 2
}
