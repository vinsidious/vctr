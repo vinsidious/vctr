{
 "cells": [
  {
   "cell_type": "code",
   "execution_count": null,
   "metadata": {},
   "outputs": [],
   "source": [
    "import numpy as np\n",
    "import pandas as pd\n",
    "import plotly.io as pio\n",
    "import vectorbtpro as vbt\n",
    "from vctr.data.lstm_preprocessor import preprocess_data_2d\n",
    "\n",
    "# pio.renderers.default = 'notebook'\n",
    "from vctr.data.data_loader import get_data_with_features_and_labels\n",
    "from vctr.models.rfc_binary import RFClassifier\n"
   ]
  },
  {
   "cell_type": "code",
   "execution_count": null,
   "metadata": {},
   "outputs": [],
   "source": [
    "symbol = 'MATIC'\n",
    "timeframe = '30m'\n",
    "freq = timeframe.replace('m', 't')\n",
    "\n",
    "X, y = get_data_with_features_and_labels(symbol, timeframe=timeframe)\n",
    "data = X.join(y)\n",
    "X_train, y_train, X_test, y_test = preprocess_data_2d(X, y)\n",
    "X_train.shape, y_train.shape, X_test.shape, y_test.shape\n"
   ]
  },
  {
   "cell_type": "code",
   "execution_count": null,
   "metadata": {},
   "outputs": [],
   "source": [
    "rfc = RFClassifier()\n",
    "rfc.train_and_evaluate(X_train, y_train, X_test, y_test)\n"
   ]
  },
  {
   "cell_type": "code",
   "execution_count": null,
   "metadata": {},
   "outputs": [],
   "source": [
    "rfc.get_feature_importance(X)"
   ]
  },
  {
   "cell_type": "code",
   "execution_count": null,
   "metadata": {},
   "outputs": [],
   "source": [
    "y_pred = pd.Series(rfc.model.predict(X_test), index=y_test.index)\n",
    "data['pred'] = y_pred\n",
    "data.dropna(inplace=True)\n",
    "\n",
    "data\n"
   ]
  },
  {
   "cell_type": "code",
   "execution_count": null,
   "metadata": {},
   "outputs": [],
   "source": []
  },
  {
   "cell_type": "code",
   "execution_count": 36,
   "metadata": {},
   "outputs": [],
   "source": [
    "import vectorbtpro as vbt\n",
    "\n",
    "def get_return(df):\n",
    "    pf = vbt.Portfolio.from_signals(\n",
    "        df['close'],\n",
    "        df['label'] == 1,\n",
    "        df['label'] == 0,\n",
    "        freq='1H',\n",
    "        init_cash=10000,\n",
    "        fees=0.001,\n",
    "        fixed_fees=0.001,\n",
    "        slippage=0.001,\n",
    "        log=True,\n",
    "    )\n",
    "    pf2 = vbt.Portfolio.from_signals(\n",
    "        df['close'],\n",
    "        df['pred'] == 0,\n",
    "        df['pred'] == 1,\n",
    "        freq='1H',\n",
    "        init_cash=10000,\n",
    "        fees=0.001,\n",
    "        fixed_fees=0.001,\n",
    "        slippage=0.001,\n",
    "        log=True,\n",
    "    )\n",
    "    print(f'[true] ROI: {pf.stats(\"total_return\").values[0]:.0f}%')\n",
    "    print(f'[pred] ROI: {pf2.stats(\"total_return\").values[0]:.0f}%')\n"
   ]
  },
  {
   "cell_type": "code",
   "execution_count": 37,
   "metadata": {},
   "outputs": [
    {
     "name": "stdout",
     "output_type": "stream",
     "text": [
      "[true] ROI: 447897%\n",
      "[pred] ROI: -97%\n"
     ]
    }
   ],
   "source": [
    "get_return(data)"
   ]
  },
  {
   "cell_type": "code",
   "execution_count": null,
   "metadata": {},
   "outputs": [],
   "source": [
    "len(data)"
   ]
  }
 ],
 "metadata": {
  "kernelspec": {
   "display_name": "vctr",
   "language": "python",
   "name": "python3"
  },
  "language_info": {
   "codemirror_mode": {
    "name": "ipython",
    "version": 3
   },
   "file_extension": ".py",
   "mimetype": "text/x-python",
   "name": "python",
   "nbconvert_exporter": "python",
   "pygments_lexer": "ipython3",
   "version": "3.9.16"
  },
  "orig_nbformat": 4
 },
 "nbformat": 4,
 "nbformat_minor": 2
}
