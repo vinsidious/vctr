{
 "cells": [
  {
   "cell_type": "code",
   "execution_count": 1,
   "metadata": {},
   "outputs": [
    {
     "name": "stderr",
     "output_type": "stream",
     "text": [
      "URLs discovered:   5%|▍         | 1/22 [00:00<00:07,  2.75urls/s]"
     ]
    }
   ],
   "source": [
    "import requests\n",
    "from bs4 import BeautifulSoup\n",
    "from urllib.parse import urlparse, urljoin\n",
    "from concurrent.futures import ThreadPoolExecutor\n",
    "from tqdm import tqdm\n",
    "import threading\n",
    "\n",
    "def normalize_url(url):\n",
    "    if url.endswith('/'):\n",
    "        return url[:-1]\n",
    "    return url\n",
    "\n",
    "def extract_links(url, domain):\n",
    "    try:\n",
    "        response = requests.get(url)\n",
    "        soup = BeautifulSoup(response.text, 'html.parser')\n",
    "        links = set()\n",
    "\n",
    "        for link in soup.find_all('a'):\n",
    "            href = link.get('href')\n",
    "            if href:\n",
    "                parsed_url = urljoin(url, href)\n",
    "                if parsed_url.startswith(domain):\n",
    "                    links.add(normalize_url(parsed_url))\n",
    "\n",
    "        return links\n",
    "    except Exception as e:\n",
    "        return set()\n",
    "\n",
    "def crawl_domain(start_url, domain, max_workers=10):\n",
    "    start_url = normalize_url(start_url)\n",
    "    domain = normalize_url(domain)\n",
    "    visited = set()\n",
    "    to_visit = {start_url}\n",
    "    lock = threading.Lock()\n",
    "\n",
    "    class UrlsDiscoveredTqdm(tqdm):\n",
    "        def update_to(self, b=1, bsize=1, tsize=None):\n",
    "            if tsize is not None:\n",
    "                self.total = tsize\n",
    "            self.update(b * bsize - self.n)\n",
    "\n",
    "    def worker(url, pbar):\n",
    "        nonlocal visited, to_visit, lock\n",
    "        with lock:\n",
    "            visited.add(url)\n",
    "            to_visit.discard(url)\n",
    "\n",
    "        links = extract_links(url, domain)\n",
    "        with lock:\n",
    "            new_links = links - visited\n",
    "            to_visit.update(new_links)\n",
    "            pbar.update_to(tsize=len(visited) + len(to_visit))\n",
    "\n",
    "    with UrlsDiscoveredTqdm(desc='URLs discovered', total=1, unit='urls') as pbar:\n",
    "        while to_visit:\n",
    "            with ThreadPoolExecutor(max_workers=max_workers) as executor:\n",
    "                urls = list(to_visit)\n",
    "                for url in urls:\n",
    "                    executor.submit(worker, url, pbar)\n",
    "                executor.shutdown()\n",
    "\n",
    "    return visited\n",
    "\n",
    "url = 'https://vectorbt.pro/pvt_d904e513'\n",
    "\n",
    "links = crawl_domain(url, url)"
   ]
  },
  {
   "cell_type": "code",
   "execution_count": null,
   "metadata": {},
   "outputs": [],
   "source": [
    "links"
   ]
  }
 ],
 "metadata": {
  "kernelspec": {
   "display_name": "v2",
   "language": "python",
   "name": "python3"
  },
  "language_info": {
   "codemirror_mode": {
    "name": "ipython",
    "version": 3
   },
   "file_extension": ".py",
   "mimetype": "text/x-python",
   "name": "python",
   "nbconvert_exporter": "python",
   "pygments_lexer": "ipython3",
   "version": "3.10.8"
  },
  "orig_nbformat": 4
 },
 "nbformat": 4,
 "nbformat_minor": 2
}
