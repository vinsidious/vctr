{
 "cells": [
  {
   "cell_type": "code",
   "execution_count": 11,
   "metadata": {},
   "outputs": [
    {
     "name": "stderr",
     "output_type": "stream",
     "text": [
      "/opt/homebrew/Caskroom/miniforge/base/envs/v2/lib/python3.10/site-packages/sklearn/linear_model/_logistic.py:458: ConvergenceWarning: lbfgs failed to converge (status=1):\n",
      "STOP: TOTAL NO. of ITERATIONS REACHED LIMIT.\n",
      "\n",
      "Increase the number of iterations (max_iter) or scale the data as shown in:\n",
      "    https://scikit-learn.org/stable/modules/preprocessing.html\n",
      "Please also refer to the documentation for alternative solver options:\n",
      "    https://scikit-learn.org/stable/modules/linear_model.html#logistic-regression\n",
      "  n_iter_i = _check_optimize_result(\n"
     ]
    }
   ],
   "source": [
    "import torch\n",
    "import faulthandler\n",
    "from IPython.display import clear_output\n",
    "\n",
    "from vctr.data.lstm_preprocessor import preprocess_data\n",
    "from vctr.data.data_loader import get_data_with_features_and_labels\n",
    "from vctr.models.lstm.utils import get_new_model_name\n",
    "from vctr.models.lstm.actions import new_model, save_model, train_model, load_model\n",
    "from vctr.trading.coins import trainable_coins\n",
    "from vctr.models.echo import EchoStateNetwork\n",
    "\n",
    "faulthandler.enable()\n",
    "torch.autograd.set_detect_anomaly(True)\n",
    "\n",
    "input_size = 482\n",
    "num_classes = 3\n",
    "dropout_rate = 0.3\n",
    "num_layers = 2\n",
    "hidden_size = 128\n",
    "\n",
    "model = EchoStateNetwork(input_dim=input_size, reservoir_size=2000, output_dim=num_classes)\n",
    "\n",
    "data = get_data_with_features_and_labels(\n",
    "    symbol='ACH',\n",
    "    timeframe='15m',\n",
    "    separate=False,\n",
    "    label_args=(0.05, 0.005),\n",
    ")\n",
    "\n",
    "X_train, y_train, X_test, y_test = preprocess_data(\n",
    "    data.drop(['label'], axis=1), data['label'], lookback=24, test_pct=0.25, torch=True\n",
    ")\n",
    "\n",
    "model.train(X_train, y_train)\n"
   ]
  },
  {
   "cell_type": "code",
   "execution_count": 12,
   "metadata": {},
   "outputs": [
    {
     "name": "stdout",
     "output_type": "stream",
     "text": [
      "Classification Report:\n",
      "              precision    recall  f1-score   support\n",
      "\n",
      "           0       0.99      0.96      0.97     23217\n",
      "           1       0.32      0.65      0.42       413\n",
      "           2       0.39      0.64      0.49       349\n",
      "\n",
      "    accuracy                           0.95     23979\n",
      "   macro avg       0.57      0.75      0.63     23979\n",
      "weighted avg       0.97      0.95      0.96     23979\n",
      "\n"
     ]
    }
   ],
   "source": [
    "from sklearn.metrics import classification_report\n",
    "\n",
    "y_pred = model.predict(X_test)\n",
    "\n",
    "# Generate classification report\n",
    "report = classification_report(y_test, y_pred)\n",
    "print('Classification Report:')\n",
    "print(report)\n"
   ]
  },
  {
   "cell_type": "code",
   "execution_count": 15,
   "metadata": {},
   "outputs": [],
   "source": [
    "data = get_data_with_features_and_labels(\n",
    "    symbol='BTC',\n",
    "    timeframe='15m',\n",
    "    separate=False,\n",
    "    label_args=(0.05, 0.005),\n",
    ")\n",
    "\n",
    "X_train, y_train, X_test, y_test = preprocess_data(\n",
    "    data.drop(['label'], axis=1), data['label'], lookback=24, test_pct=0.25, torch=True\n",
    ")\n"
   ]
  },
  {
   "cell_type": "code",
   "execution_count": 16,
   "metadata": {},
   "outputs": [
    {
     "name": "stdout",
     "output_type": "stream",
     "text": [
      "Classification Report:\n",
      "              precision    recall  f1-score   support\n",
      "\n",
      "           0       0.96      0.94      0.95     41966\n",
      "           1       0.17      0.28      0.21      1112\n",
      "           2       0.13      0.14      0.14      1105\n",
      "\n",
      "    accuracy                           0.90     44183\n",
      "   macro avg       0.42      0.45      0.43     44183\n",
      "weighted avg       0.92      0.90      0.91     44183\n",
      "\n"
     ]
    }
   ],
   "source": [
    "y_pred = model.predict(X_train)\n",
    "\n",
    "# Generate classification report\n",
    "report = classification_report(y_train, y_pred)\n",
    "print('Classification Report:')\n",
    "print(report)"
   ]
  }
 ],
 "metadata": {
  "kernelspec": {
   "display_name": "v2",
   "language": "python",
   "name": "python3"
  },
  "language_info": {
   "codemirror_mode": {
    "name": "ipython",
    "version": 3
   },
   "file_extension": ".py",
   "mimetype": "text/x-python",
   "name": "python",
   "nbconvert_exporter": "python",
   "pygments_lexer": "ipython3",
   "version": "3.10.8"
  },
  "orig_nbformat": 4
 },
 "nbformat": 4,
 "nbformat_minor": 2
}
