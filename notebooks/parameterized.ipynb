{
 "cells": [
  {
   "cell_type": "code",
   "execution_count": 12,
   "metadata": {},
   "outputs": [
    {
     "name": "stderr",
     "output_type": "stream",
     "text": [
      "/var/folders/zv/6wx6x5ps6s11ny3rshxvz26c0000gn/T/ipykernel_56644/3716074469.py:19: SettingWithCopyWarning: \n",
      "A value is trying to be set on a copy of a slice from a DataFrame\n",
      "\n",
      "See the caveats in the documentation: https://pandas.pydata.org/pandas-docs/stable/user_guide/indexing.html#returning-a-view-versus-a-copy\n",
      "  labels.loc[labels == 2] = 1\n"
     ]
    }
   ],
   "source": [
    "import numpy as np\n",
    "import pandas as pd\n",
    "import pandas_ta as ta\n",
    "import vectorbtpro as vbt\n",
    "\n",
    "from vctr.data.data_loader import get_data\n",
    "import numpy as np\n",
    "from scipy.stats import spearmanr\n",
    "from vctr.data.labeling import label_data_extrema_multi\n",
    "\n",
    "\n",
    "def overlap(arr):\n",
    "    corr, _ = spearmanr(labels.values, arr)\n",
    "    return corr\n",
    "\n",
    "\n",
    "data = get_data('FTM', '15m')\n",
    "labels = label_data_extrema_multi(data).label\n",
    "labels.loc[labels == 2] = 1\n"
   ]
  },
  {
   "cell_type": "code",
   "execution_count": null,
   "metadata": {},
   "outputs": [],
   "source": [
    "def calculate_overlap_percent(series):\n",
    "    if not labels.index.equals(series.index):\n",
    "        raise ValueError('Series must have the same index')\n",
    "\n",
    "    total_elements = len(labels)\n",
    "\n",
    "    regular_overlap = (labels == series).sum()\n",
    "    regular_overlap_percent = (regular_overlap / total_elements) * 100\n",
    "\n",
    "    inverted_series = 1 - series\n",
    "    inverted_overlap = (labels == inverted_series).sum()\n",
    "    inverted_overlap_percent = (inverted_overlap / total_elements) * 100\n",
    "\n",
    "    return max(regular_overlap_percent, inverted_overlap_percent)\n"
   ]
  },
  {
   "cell_type": "code",
   "execution_count": null,
   "metadata": {},
   "outputs": [],
   "source": [
    "from vctr.features.feature_engineering import add_rsi_features\n",
    "\n",
    "\n",
    "@vbt.parameterized(merge_func='concat', show_progress=True)\n",
    "def opt_rsi(df, rsi_period, ema_period, th_low, th_high):\n",
    "    df2 = df.copy()\n",
    "    drop_cols = df2.columns\n",
    "    df2 = add_rsi_features(df2, rsi_period, ema_period, th_low, th_high)\n",
    "    df2 = df2.drop(drop_cols, axis=1)\n",
    "    # Drop all columns that only contain a single value\n",
    "    df2 = df2.loc[:, df2.nunique() != 1]\n",
    "\n",
    "    results = [calculate_overlap_percent(df2[col]) for col in df2.columns]\n",
    "\n",
    "    return max(results)\n"
   ]
  },
  {
   "cell_type": "code",
   "execution_count": null,
   "metadata": {},
   "outputs": [],
   "source": [
    "rsi_periods = vbt.Param(list(range(2, 60, 2)))\n",
    "ema_periods = vbt.Param(list(range(2, 60, 2)))\n",
    "th_low = vbt.Param(list(range(10, 40, 10)))\n",
    "th_high = vbt.Param(list(range(60, 90, 10)))\n",
    "\n",
    "res = opt_rsi(data, rsi_periods, ema_periods, th_low, th_high)\n"
   ]
  },
  {
   "cell_type": "code",
   "execution_count": null,
   "metadata": {},
   "outputs": [],
   "source": [
    "pd.set_option('display.max_rows', None)\n",
    "res.sort_values(ascending=False).head(100)"
   ]
  },
  {
   "cell_type": "code",
   "execution_count": 17,
   "metadata": {},
   "outputs": [
    {
     "name": "stdout",
     "output_type": "stream",
     "text": [
      "Frequent patterns were generated successfully using frequentPatternGrowth algorithm\n"
     ]
    }
   ],
   "source": [
    "from PAMI.frequentPattern.basic import FPGrowth as alg\n",
    "\n",
    "# df = pd.DataFrame(labels)\n",
    "# df.to_csv('mining.csv')\n",
    "# label\n",
    "\n",
    "\n",
    "obj = alg.FPGrowth('mining.csv',100,'\\t')\n",
    "obj.startMine()\n",
    "\n",
    "\n",
    "# obj.savePatterns('frequentPatters_100.txt')\n",
    "# df = obj.getPatternsAsDataFrame()\n",
    "\n",
    "\n",
    "# print('Runtime: ' + str(obj.getRuntime()))\n",
    "# print('Memory: ' + str(obj.getMemoryRSS()))"
   ]
  },
  {
   "cell_type": "code",
   "execution_count": 18,
   "metadata": {},
   "outputs": [],
   "source": [
    "df2 = obj.getPatternsAsDataFrame()"
   ]
  },
  {
   "cell_type": "code",
   "execution_count": 19,
   "metadata": {},
   "outputs": [
    {
     "data": {
      "text/plain": [
       "{}"
      ]
     },
     "execution_count": 19,
     "metadata": {},
     "output_type": "execute_result"
    }
   ],
   "source": [
    "df2"
   ]
  }
 ],
 "metadata": {
  "kernelspec": {
   "display_name": "vctr",
   "language": "python",
   "name": "python3"
  },
  "language_info": {
   "codemirror_mode": {
    "name": "ipython",
    "version": 3
   },
   "file_extension": ".py",
   "mimetype": "text/x-python",
   "name": "python",
   "nbconvert_exporter": "python",
   "pygments_lexer": "ipython3",
   "version": "3.9.16"
  },
  "orig_nbformat": 4
 },
 "nbformat": 4,
 "nbformat_minor": 2
}
