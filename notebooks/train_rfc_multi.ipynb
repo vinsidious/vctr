{
 "cells": [
  {
   "cell_type": "code",
   "execution_count": 1,
   "metadata": {},
   "outputs": [],
   "source": [
    "import numpy as np\n",
    "import pandas as pd\n",
    "import plotly.io as pio\n",
    "import vectorbtpro as vbt\n",
    "\n",
    "from vctr.data.data_loader import get_data_with_features_and_labels\n",
    "from vctr.data.labeling import label_data_extrema_multi\n",
    "from vctr.data.lstm_preprocessor import preprocess_data_2d\n",
    "from vctr.features.feature_engineering import add_features\n",
    "from vctr.models.rfc_multi import RFClassifier"
   ]
  },
  {
   "cell_type": "code",
   "execution_count": 2,
   "metadata": {},
   "outputs": [],
   "source": [
    "symbols = ['ETH', 'BTC', 'ADA']\n",
    "timeframe = '1h'\n",
    "freq = timeframe.replace('m', 't')\n",
    "\n",
    "data = [\n",
    "    get_data_with_features_and_labels(symbol, timeframe=timeframe, label_args=(0.06, 0.005), separate=False) for symbol in symbols\n",
    "]\n"
   ]
  },
  {
   "cell_type": "code",
   "execution_count": 3,
   "metadata": {},
   "outputs": [
    {
     "name": "stdout",
     "output_type": "stream",
     "text": [
      "Samples before: 153626\n",
      "Samples after: 153626\n"
     ]
    }
   ],
   "source": [
    "df = pd.concat(data)\n",
    "\n",
    "X = df.drop(['label'], axis=1)\n",
    "y = df['label']\n",
    "\n",
    "print(f'Samples before: {len(df)}')\n",
    "\n",
    "X_train, y_train, X_test, y_test = preprocess_data_2d(X, y, 0.3)\n",
    "X_test_backup = X_test.copy()\n",
    "\n",
    "# for k in ['open', 'high', 'low', 'close', 'volume']:\n",
    "#     if k in X_train.columns:\n",
    "#         X_train.drop(k, axis=1, inplace=True)\n",
    "#     if k in X_test.columns:\n",
    "#         X_test.drop(k, axis=1, inplace=True)\n",
    "\n",
    "print(f'Samples after: {len(X_train) + len(X_test)}')\n"
   ]
  },
  {
   "cell_type": "code",
   "execution_count": 4,
   "metadata": {},
   "outputs": [],
   "source": [
    "rfc = RFClassifier(3)"
   ]
  },
  {
   "cell_type": "code",
   "execution_count": 5,
   "metadata": {},
   "outputs": [
    {
     "name": "stdout",
     "output_type": "stream",
     "text": [
      "length: 107539\n",
      "Accuracy:  58%\n",
      "F1 (Macro):  31%\n",
      "Precision (Macro):  37%\n",
      "Recall (Macro):  37%\n",
      "Confusion Matrix: \n",
      " [[59985 20303 24609]\n",
      " [   53  1246     0]\n",
      " [   89     1  1253]]\n"
     ]
    }
   ],
   "source": [
    "y_pred = rfc.train_and_evaluate(X_train, y_train, X_test, y_test)"
   ]
  },
  {
   "cell_type": "code",
   "execution_count": null,
   "metadata": {},
   "outputs": [],
   "source": [
    "X_test.drop(['open', 'high', 'low', 'close', 'volume'], axis=1, inplace=True)"
   ]
  },
  {
   "cell_type": "code",
   "execution_count": 6,
   "metadata": {},
   "outputs": [
    {
     "data": {
      "text/plain": [
       "0    0.559118\n",
       "2    0.240489\n",
       "1    0.200392\n",
       "dtype: float64"
      ]
     },
     "execution_count": 6,
     "metadata": {},
     "output_type": "execute_result"
    }
   ],
   "source": [
    "pd.Series(y_pred).value_counts(normalize=True)"
   ]
  },
  {
   "cell_type": "code",
   "execution_count": 7,
   "metadata": {},
   "outputs": [
    {
     "data": {
      "application/vnd.plotly.v1+json": {
       "config": {
        "plotlyServerURL": "https://plot.ly"
       },
       "data": [
        {
         "type": "bar",
         "x": [
          "rsi2_und_40",
          "talib_stochf_fastk",
          "prc_abv_zlema10",
          "ta_volumepricetrendindicator_volume_price_trend",
          "wqa101_35_out",
          "talib_cci_real",
          "prc_abv_zlma50",
          "prc_abv_zlema20",
          "prc_abv_zlma40",
          "prc_abv_zlma60",
          "ta_forceindexindicator_force_index",
          "wvf",
          "prc_abv_zlema10_and_hma150",
          "rsi2_abv_80",
          "prc_abv_zlema30",
          "prc_abv_zlma40_and_hma200",
          "prc_abv_zlma50_and_hma200",
          "ta_aroonindicator_aroon_up",
          "prc_abv_zlma70",
          "ta_ulcerindex_ulcer_index",
          "talib_bop_real",
          "wvf_upper_band",
          "prc_abv_zlema20_and_hma150",
          "wqa101_23_out",
          "talib_div_real",
          "prc_abv_zlma90",
          "talib_stoch_slowk",
          "ta_easeofmovementindicator_ease_of_movement",
          "rsi2_btw_40_80",
          "ta_keltnerchannel_keltner_channel_lband_indicator",
          "wvf_range_high",
          "prc_abv_zlma60_and_hma200",
          "prc_abv_zlema30_and_hma150",
          "prc_abv_zlma70_and_hma250",
          "wqa101_9_out",
          "wqa101_54_out",
          "wqa101_7_out",
          "prc_abv_hma150",
          "squeeze_up",
          "ta_keltnerchannel_keltner_channel_hband_indicator",
          "prc_abv_zlma80_and_hma250",
          "prc_abv_hma150",
          "wqa101_24_out",
          "talib_aroon_aroonup",
          "prc_abv_hma150",
          "prc_abv_zlma90_and_hma250",
          "wqa101_41_out",
          "prc_abv_hma200",
          "wqa101_21_out",
          "rsi5_ema14_both_und_40",
          "talib_linearreg_angle_real",
          "talib_ht_trendmode_integer",
          "prc_abv_hma200",
          "ta_bollingerbands_bollinger_lband_indicator",
          "ta_easeofmovementindicator_sma_ease_of_movement",
          "talib_macd_macdhist",
          "wvf_range_low",
          "last_2_bars_red",
          "talib_stddev_real",
          "wqa101_53_out",
          "last_2_bars_green",
          "wvf_abv_th",
          "talib_aroon_aroondown",
          "volume",
          "talib_plus_di_real",
          "wqa101_28_out",
          "prc_abv_hma250",
          "ta_bollingerbands_bollinger_hband_indicator",
          "prc_abv_hma200",
          "wvf_lower_band",
          "ta_kstindicator_kst",
          "squeeze_dn",
          "talib_mfi_real",
          "prc_und_bbl_50_2",
          "ta_kstindicator_kst_diff",
          "talib_maxindex_integer",
          "prc_abv_36_prd",
          "lower_lows_12_3",
          "prc_abv_bbu_50_2",
          "talib_aroonosc_real",
          "talib_cdllongline_integer",
          "talib_ultosc_real",
          "talib_atr_real",
          "talib_adosc_real",
          "wqa101_46_out",
          "rsi5_abv_80",
          "talib_apo_real",
          "ta_percentagevolumeoscillator_pvo",
          "zlema10_abv_hma150",
          "talib_adx_real",
          "ta_percentagevolumeoscillator_pvo_hist",
          "higher_highs_12_3",
          "close",
          "open",
          "last_4_bars_red",
          "talib_cdlbelthold_integer",
          "talib_ht_phasor_inphase",
          "prc_und_bbl_10_2",
          "imacd_45_15_abv_2",
          "ta_massindex_mass_index",
          "talib_ad_real",
          "talib_macdext_macdhist",
          "wqa101_12_out",
          "prc_abv_bbu_30_2",
          "low",
          "prc_abv_bbu_10_2",
          "imacd_20_6_abv_2",
          "sd_bb_up",
          "imacd_54_21_und_2",
          "imacd_54_21_abv_2",
          "higher_highs_24_3",
          "ta_dpoindicator_dpo",
          "prc_abv_hma250",
          "talib_cdlmarubozu_integer",
          "lower_lows_12_9",
          "imacd_45_15_abv_sig",
          "zlema30_abv_hma150",
          "ta_chaikinmoneyflowindicator_chaikin_money_flow",
          "talib_cdlengulfing_integer",
          "rsi2_ema7_both_abv_80",
          "prc_abv_108_prd",
          "talib_ht_dcperiod_real",
          "imacd_34_10_abv_sig",
          "prc_abv_hma250",
          "talib_ht_phasor_quadrature",
          "talib_correl_real",
          "talib_cdlonneck_integer",
          "talib_cdlthrusting_integer",
          "high",
          "talib_cdlmorningdojistar_integer",
          "talib_cdlmorningstar_integer",
          "talib_cdlstalledpattern_integer",
          "talib_cdlpiercing_integer",
          "talib_cdlspinningtop_integer",
          "talib_cdltasukigap_integer",
          "talib_cdlrisefall3methods_integer",
          "talib_cdlsticksandwich_integer",
          "talib_cdlseparatinglines_integer",
          "talib_cdlshootingstar_integer",
          "talib_cdlshortline_integer",
          "talib_cdl2crows_integer",
          "talib_cdlhangingman_integer",
          "talib_cdlmathold_integer",
          "talib_cdlmatchinglow_integer",
          "talib_cdldoji_integer",
          "talib_cdldarkcloudcover_integer",
          "talib_cdlcounterattack_integer",
          "talib_cdlconcealbabyswall_integer",
          "talib_cdlclosingmarubozu_integer",
          "talib_cdlbreakaway_integer",
          "talib_beta_real",
          "talib_cdlunique3river_integer",
          "talib_cdladvanceblock_integer",
          "talib_cdlabandonedbaby_integer",
          "talib_cdl3whitesoldiers_integer",
          "talib_cdl3starsinsouth_integer",
          "talib_cdl3outside_integer",
          "talib_cdl3linestrike_integer",
          "talib_cdl3inside_integer",
          "talib_cdldojistar_integer",
          "talib_cdldragonflydoji_integer",
          "talib_cdleveningdojistar_integer",
          "talib_cdlhomingpigeon_integer",
          "talib_cdlladderbottom_integer",
          "talib_cdlkickingbylength_integer",
          "talib_cdlkicking_integer",
          "talib_cdlinvertedhammer_integer",
          "talib_cdlinneck_integer",
          "talib_cdlidentical3crows_integer",
          "talib_cdlhikkakemod_integer",
          "talib_cdleveningstar_integer",
          "talib_cdlhikkake_integer",
          "talib_cdlharami_integer",
          "talib_cdl3blackcrows_integer",
          "talib_cdlhammer_integer",
          "talib_cdlgravestonedoji_integer",
          "talib_cdlgapsidesidewhite_integer",
          "talib_cdltristar_integer",
          "sd_macd_up",
          "talib_cdlupsidegap2crows_integer",
          "rsi5_ema14_both_und_20",
          "last_6_bars_red",
          "last_10_bars_green",
          "last_8_bars_green",
          "last_6_bars_green",
          "last_4_bars_green",
          "8_pct_above_12_pd_minima",
          "rsi5_ema14_both_abv_80",
          "wqa101_84_out",
          "ta_psarindicator_psar_up_indicator",
          "wqa101_99_out",
          "wqa101_98_out",
          "wqa101_95_out",
          "wqa101_94_out",
          "wqa101_86_out",
          "last_8_bars_red",
          "last_10_bars_red",
          "higher_highs_12_9",
          "higher_highs_24_9",
          "imacd_34_10_abv_2",
          "imacd_45_15_histo_abv_0",
          "imacd_45_15_und_2",
          "imacd_54_21_abv_sig",
          "imacd_54_21_histo_abv_0",
          "zlema20_abv_hma150",
          "zlma40_abv_hma200",
          "zlma50_abv_hma200",
          "zlma60_abv_hma200",
          "zlma70_abv_hma250",
          "zlma80_abv_hma250",
          "zlma90_abv_hma250",
          "sd_bb_dn",
          "wqa101_85_out",
          "wqa101_81_out",
          "talib_cdlxsidegap3methods_integer",
          "wqa101_13_out",
          "wqa101_27_out",
          "wqa101_25_out",
          "wqa101_20_out",
          "wqa101_18_out",
          "wqa101_17_out",
          "wqa101_16_out",
          "wqa101_11_out",
          "wqa101_77_out",
          "wqa101_10_out",
          "wqa101_8_out",
          "wqa101_6_out",
          "wqa101_5_out",
          "wqa101_4_out",
          "wqa101_1_out",
          "wqa101_30_out",
          "wqa101_31_out",
          "wqa101_33_out",
          "wqa101_34_out",
          "wqa101_38_out",
          "wqa101_42_out",
          "wqa101_45_out",
          "wqa101_56_out",
          "wqa101_60_out",
          "sd_macd_dn",
          "wqa101_62_out",
          "wqa101_64_out",
          "wqa101_65_out",
          "wqa101_68_out",
          "wqa101_73_out",
          "wqa101_74_out",
          "wqa101_75_out",
          "wqa101_61_out"
         ],
         "y": [
          0.06886704547455005,
          0.06650955354959552,
          0.06558164259424092,
          0.05274629956661204,
          0.045566187763075035,
          0.04500837905500087,
          0.04493144143792099,
          0.043171835688556405,
          0.03639479430751698,
          0.03226213499138129,
          0.028461939488227003,
          0.02706651740809672,
          0.024082202777310983,
          0.0238139222297154,
          0.023357487540703117,
          0.02163109839265392,
          0.01869561899148079,
          0.018179738516175842,
          0.017991801770651728,
          0.013785395306158847,
          0.013703767102502746,
          0.013552273339682466,
          0.013251157321020435,
          0.013026490584441717,
          0.011590338268644652,
          0.0114361079377131,
          0.010795591311270843,
          0.00961476088230152,
          0.00941588847487754,
          0.008829912864577003,
          0.008507075175506409,
          0.007609715343276797,
          0.007248262092295891,
          0.006800011348185091,
          0.006331862996737983,
          0.006188243787593803,
          0.005910694798628877,
          0.005888222826289434,
          0.005569902413206631,
          0.005375939007619404,
          0.005135954272790653,
          0.005055598953528194,
          0.004996795404171969,
          0.004880025132390492,
          0.004077991677937429,
          0.004043230680809884,
          0.003994635425739457,
          0.003810925617921687,
          0.003336070415545683,
          0.003312676949283833,
          0.003178897602838586,
          0.003161397148652723,
          0.0030414091735465995,
          0.0028173971123094336,
          0.0028143552740703725,
          0.002577224149139297,
          0.0021417206395578613,
          0.0020757366220932544,
          0.001972761191213052,
          0.0018415730035733107,
          0.0018357918353745202,
          0.0017917923921378096,
          0.0017403582912606803,
          0.0017289694169322636,
          0.0016506319723636645,
          0.0015856877186846085,
          0.0014427345845875758,
          0.001416872484993071,
          0.0013528553125996994,
          0.0012601468704369209,
          0.0012465634962639217,
          0.0012133357666070758,
          0.0011645370854263364,
          0.0010577844227757556,
          0.0010034320538620475,
          0.0009862142083827236,
          0.0009491781932451583,
          0.0008706721984458577,
          0.0007525833291670562,
          0.0006887385172700581,
          0.0006407604954524126,
          0.00046880001449448586,
          0.0003913154367719521,
          0.0003859385333814713,
          0.00038499951315593183,
          0.00038296049947449665,
          0.0003570404589517936,
          0.00033798279448466547,
          0.000330324030182929,
          0.0002304299157598772,
          0.00020870960036021018,
          0.00018697824197403217,
          0.00018630377845785124,
          0.0001805074445801097,
          0.00016356972689819327,
          0.00015292869162392337,
          0.0001466288449760895,
          0.00014311541261827202,
          0.0001423118013687668,
          0.0001385583308696854,
          0.00013583716202907249,
          0.0001353885453671182,
          0.00012625468736849143,
          0.00012026235463676036,
          0.00010607712381567125,
          0.00010501632727232775,
          0.00009346972435329278,
          0.00008638120490517852,
          0.00007527283357514018,
          0.00006936329553355753,
          0.00006861641095376307,
          0.00006500245994309304,
          0.00005608582854889491,
          0.00005495461134431689,
          0.000050653173614545745,
          0.000049628778449846786,
          0.000044117501999867684,
          0.00003955281644397551,
          0.000034769784062392626,
          0.000030926513400225404,
          0.000030108818150331985,
          0.000028912416445896068,
          0.000027699523274219318,
          0.000018357238450374918,
          0.000016115565379911115,
          0.000014500410917223767,
          0,
          0,
          0,
          0,
          0,
          0,
          0,
          0,
          0,
          0,
          0,
          0,
          0,
          0,
          0,
          0,
          0,
          0,
          0,
          0,
          0,
          0,
          0,
          0,
          0,
          0,
          0,
          0,
          0,
          0,
          0,
          0,
          0,
          0,
          0,
          0,
          0,
          0,
          0,
          0,
          0,
          0,
          0,
          0,
          0,
          0,
          0,
          0,
          0,
          0,
          0,
          0,
          0,
          0,
          0,
          0,
          0,
          0,
          0,
          0,
          0,
          0,
          0,
          0,
          0,
          0,
          0,
          0,
          0,
          0,
          0,
          0,
          0,
          0,
          0,
          0,
          0,
          0,
          0,
          0,
          0,
          0,
          0,
          0,
          0,
          0,
          0,
          0,
          0,
          0,
          0,
          0,
          0,
          0,
          0,
          0,
          0,
          0,
          0,
          0,
          0,
          0,
          0,
          0,
          0,
          0,
          0,
          0,
          0,
          0,
          0,
          0,
          0,
          0,
          0,
          0,
          0,
          0,
          0,
          0,
          0,
          0
         ]
        }
       ],
       "layout": {
        "template": {
         "data": {
          "bar": [
           {
            "error_x": {
             "color": "#f2f5fa"
            },
            "error_y": {
             "color": "#f2f5fa"
            },
            "marker": {
             "line": {
              "color": "rgb(17,17,17)",
              "width": 0.5
             },
             "pattern": {
              "fillmode": "overlay",
              "size": 10,
              "solidity": 0.2
             }
            },
            "type": "bar"
           }
          ],
          "barpolar": [
           {
            "marker": {
             "line": {
              "color": "rgb(17,17,17)",
              "width": 0.5
             },
             "pattern": {
              "fillmode": "overlay",
              "size": 10,
              "solidity": 0.2
             }
            },
            "type": "barpolar"
           }
          ],
          "carpet": [
           {
            "aaxis": {
             "endlinecolor": "#A2B1C6",
             "gridcolor": "#506784",
             "linecolor": "#506784",
             "minorgridcolor": "#506784",
             "startlinecolor": "#A2B1C6"
            },
            "baxis": {
             "endlinecolor": "#A2B1C6",
             "gridcolor": "#506784",
             "linecolor": "#506784",
             "minorgridcolor": "#506784",
             "startlinecolor": "#A2B1C6"
            },
            "type": "carpet"
           }
          ],
          "choropleth": [
           {
            "colorbar": {
             "outlinewidth": 0,
             "ticks": ""
            },
            "type": "choropleth"
           }
          ],
          "contour": [
           {
            "colorbar": {
             "outlinewidth": 0,
             "ticks": ""
            },
            "colorscale": [
             [
              0,
              "#0d0887"
             ],
             [
              0.1111111111111111,
              "#46039f"
             ],
             [
              0.2222222222222222,
              "#7201a8"
             ],
             [
              0.3333333333333333,
              "#9c179e"
             ],
             [
              0.4444444444444444,
              "#bd3786"
             ],
             [
              0.5555555555555556,
              "#d8576b"
             ],
             [
              0.6666666666666666,
              "#ed7953"
             ],
             [
              0.7777777777777778,
              "#fb9f3a"
             ],
             [
              0.8888888888888888,
              "#fdca26"
             ],
             [
              1,
              "#f0f921"
             ]
            ],
            "type": "contour"
           }
          ],
          "contourcarpet": [
           {
            "colorbar": {
             "outlinewidth": 0,
             "ticks": ""
            },
            "type": "contourcarpet"
           }
          ],
          "heatmap": [
           {
            "colorbar": {
             "outlinewidth": 0,
             "ticks": ""
            },
            "colorscale": [
             [
              0,
              "#0d0887"
             ],
             [
              0.1111111111111111,
              "#46039f"
             ],
             [
              0.2222222222222222,
              "#7201a8"
             ],
             [
              0.3333333333333333,
              "#9c179e"
             ],
             [
              0.4444444444444444,
              "#bd3786"
             ],
             [
              0.5555555555555556,
              "#d8576b"
             ],
             [
              0.6666666666666666,
              "#ed7953"
             ],
             [
              0.7777777777777778,
              "#fb9f3a"
             ],
             [
              0.8888888888888888,
              "#fdca26"
             ],
             [
              1,
              "#f0f921"
             ]
            ],
            "type": "heatmap"
           }
          ],
          "heatmapgl": [
           {
            "colorbar": {
             "outlinewidth": 0,
             "ticks": ""
            },
            "colorscale": [
             [
              0,
              "#0d0887"
             ],
             [
              0.1111111111111111,
              "#46039f"
             ],
             [
              0.2222222222222222,
              "#7201a8"
             ],
             [
              0.3333333333333333,
              "#9c179e"
             ],
             [
              0.4444444444444444,
              "#bd3786"
             ],
             [
              0.5555555555555556,
              "#d8576b"
             ],
             [
              0.6666666666666666,
              "#ed7953"
             ],
             [
              0.7777777777777778,
              "#fb9f3a"
             ],
             [
              0.8888888888888888,
              "#fdca26"
             ],
             [
              1,
              "#f0f921"
             ]
            ],
            "type": "heatmapgl"
           }
          ],
          "histogram": [
           {
            "marker": {
             "pattern": {
              "fillmode": "overlay",
              "size": 10,
              "solidity": 0.2
             }
            },
            "type": "histogram"
           }
          ],
          "histogram2d": [
           {
            "colorbar": {
             "outlinewidth": 0,
             "ticks": ""
            },
            "colorscale": [
             [
              0,
              "#0d0887"
             ],
             [
              0.1111111111111111,
              "#46039f"
             ],
             [
              0.2222222222222222,
              "#7201a8"
             ],
             [
              0.3333333333333333,
              "#9c179e"
             ],
             [
              0.4444444444444444,
              "#bd3786"
             ],
             [
              0.5555555555555556,
              "#d8576b"
             ],
             [
              0.6666666666666666,
              "#ed7953"
             ],
             [
              0.7777777777777778,
              "#fb9f3a"
             ],
             [
              0.8888888888888888,
              "#fdca26"
             ],
             [
              1,
              "#f0f921"
             ]
            ],
            "type": "histogram2d"
           }
          ],
          "histogram2dcontour": [
           {
            "colorbar": {
             "outlinewidth": 0,
             "ticks": ""
            },
            "colorscale": [
             [
              0,
              "#0d0887"
             ],
             [
              0.1111111111111111,
              "#46039f"
             ],
             [
              0.2222222222222222,
              "#7201a8"
             ],
             [
              0.3333333333333333,
              "#9c179e"
             ],
             [
              0.4444444444444444,
              "#bd3786"
             ],
             [
              0.5555555555555556,
              "#d8576b"
             ],
             [
              0.6666666666666666,
              "#ed7953"
             ],
             [
              0.7777777777777778,
              "#fb9f3a"
             ],
             [
              0.8888888888888888,
              "#fdca26"
             ],
             [
              1,
              "#f0f921"
             ]
            ],
            "type": "histogram2dcontour"
           }
          ],
          "mesh3d": [
           {
            "colorbar": {
             "outlinewidth": 0,
             "ticks": ""
            },
            "type": "mesh3d"
           }
          ],
          "parcoords": [
           {
            "line": {
             "colorbar": {
              "outlinewidth": 0,
              "ticks": ""
             }
            },
            "type": "parcoords"
           }
          ],
          "pie": [
           {
            "automargin": true,
            "type": "pie"
           }
          ],
          "scatter": [
           {
            "marker": {
             "line": {
              "color": "#283442"
             }
            },
            "type": "scatter"
           }
          ],
          "scatter3d": [
           {
            "line": {
             "colorbar": {
              "outlinewidth": 0,
              "ticks": ""
             }
            },
            "marker": {
             "colorbar": {
              "outlinewidth": 0,
              "ticks": ""
             }
            },
            "type": "scatter3d"
           }
          ],
          "scattercarpet": [
           {
            "marker": {
             "colorbar": {
              "outlinewidth": 0,
              "ticks": ""
             }
            },
            "type": "scattercarpet"
           }
          ],
          "scattergeo": [
           {
            "marker": {
             "colorbar": {
              "outlinewidth": 0,
              "ticks": ""
             }
            },
            "type": "scattergeo"
           }
          ],
          "scattergl": [
           {
            "marker": {
             "line": {
              "color": "#283442"
             }
            },
            "type": "scattergl"
           }
          ],
          "scattermapbox": [
           {
            "marker": {
             "colorbar": {
              "outlinewidth": 0,
              "ticks": ""
             }
            },
            "type": "scattermapbox"
           }
          ],
          "scatterpolar": [
           {
            "marker": {
             "colorbar": {
              "outlinewidth": 0,
              "ticks": ""
             }
            },
            "type": "scatterpolar"
           }
          ],
          "scatterpolargl": [
           {
            "marker": {
             "colorbar": {
              "outlinewidth": 0,
              "ticks": ""
             }
            },
            "type": "scatterpolargl"
           }
          ],
          "scatterternary": [
           {
            "marker": {
             "colorbar": {
              "outlinewidth": 0,
              "ticks": ""
             }
            },
            "type": "scatterternary"
           }
          ],
          "surface": [
           {
            "colorbar": {
             "outlinewidth": 0,
             "ticks": ""
            },
            "colorscale": [
             [
              0,
              "#0d0887"
             ],
             [
              0.1111111111111111,
              "#46039f"
             ],
             [
              0.2222222222222222,
              "#7201a8"
             ],
             [
              0.3333333333333333,
              "#9c179e"
             ],
             [
              0.4444444444444444,
              "#bd3786"
             ],
             [
              0.5555555555555556,
              "#d8576b"
             ],
             [
              0.6666666666666666,
              "#ed7953"
             ],
             [
              0.7777777777777778,
              "#fb9f3a"
             ],
             [
              0.8888888888888888,
              "#fdca26"
             ],
             [
              1,
              "#f0f921"
             ]
            ],
            "type": "surface"
           }
          ],
          "table": [
           {
            "cells": {
             "fill": {
              "color": "#506784"
             },
             "line": {
              "color": "rgb(17,17,17)"
             }
            },
            "header": {
             "fill": {
              "color": "#2a3f5f"
             },
             "line": {
              "color": "rgb(17,17,17)"
             }
            },
            "type": "table"
           }
          ]
         },
         "layout": {
          "annotationdefaults": {
           "arrowcolor": "#f2f5fa",
           "arrowhead": 0,
           "arrowwidth": 1
          },
          "autotypenumbers": "strict",
          "coloraxis": {
           "colorbar": {
            "outlinewidth": 0,
            "ticks": ""
           }
          },
          "colorscale": {
           "diverging": [
            [
             0,
             "#8e0152"
            ],
            [
             0.1,
             "#c51b7d"
            ],
            [
             0.2,
             "#de77ae"
            ],
            [
             0.3,
             "#f1b6da"
            ],
            [
             0.4,
             "#fde0ef"
            ],
            [
             0.5,
             "#f7f7f7"
            ],
            [
             0.6,
             "#e6f5d0"
            ],
            [
             0.7,
             "#b8e186"
            ],
            [
             0.8,
             "#7fbc41"
            ],
            [
             0.9,
             "#4d9221"
            ],
            [
             1,
             "#276419"
            ]
           ],
           "sequential": [
            [
             0,
             "#0d0887"
            ],
            [
             0.1111111111111111,
             "#46039f"
            ],
            [
             0.2222222222222222,
             "#7201a8"
            ],
            [
             0.3333333333333333,
             "#9c179e"
            ],
            [
             0.4444444444444444,
             "#bd3786"
            ],
            [
             0.5555555555555556,
             "#d8576b"
            ],
            [
             0.6666666666666666,
             "#ed7953"
            ],
            [
             0.7777777777777778,
             "#fb9f3a"
            ],
            [
             0.8888888888888888,
             "#fdca26"
            ],
            [
             1,
             "#f0f921"
            ]
           ],
           "sequentialminus": [
            [
             0,
             "#0d0887"
            ],
            [
             0.1111111111111111,
             "#46039f"
            ],
            [
             0.2222222222222222,
             "#7201a8"
            ],
            [
             0.3333333333333333,
             "#9c179e"
            ],
            [
             0.4444444444444444,
             "#bd3786"
            ],
            [
             0.5555555555555556,
             "#d8576b"
            ],
            [
             0.6666666666666666,
             "#ed7953"
            ],
            [
             0.7777777777777778,
             "#fb9f3a"
            ],
            [
             0.8888888888888888,
             "#fdca26"
            ],
            [
             1,
             "#f0f921"
            ]
           ]
          },
          "colorway": [
           "#636efa",
           "#EF553B",
           "#00cc96",
           "#ab63fa",
           "#FFA15A",
           "#19d3f3",
           "#FF6692",
           "#B6E880",
           "#FF97FF",
           "#FECB52"
          ],
          "font": {
           "color": "#f2f5fa"
          },
          "geo": {
           "bgcolor": "rgb(17,17,17)",
           "lakecolor": "rgb(17,17,17)",
           "landcolor": "rgb(17,17,17)",
           "showlakes": true,
           "showland": true,
           "subunitcolor": "#506784"
          },
          "hoverlabel": {
           "align": "left"
          },
          "hovermode": "closest",
          "mapbox": {
           "style": "dark"
          },
          "paper_bgcolor": "rgb(17,17,17)",
          "plot_bgcolor": "rgb(17,17,17)",
          "polar": {
           "angularaxis": {
            "gridcolor": "#506784",
            "linecolor": "#506784",
            "ticks": ""
           },
           "bgcolor": "rgb(17,17,17)",
           "radialaxis": {
            "gridcolor": "#506784",
            "linecolor": "#506784",
            "ticks": ""
           }
          },
          "scene": {
           "xaxis": {
            "backgroundcolor": "rgb(17,17,17)",
            "gridcolor": "#506784",
            "gridwidth": 2,
            "linecolor": "#506784",
            "showbackground": true,
            "ticks": "",
            "zerolinecolor": "#C8D4E3"
           },
           "yaxis": {
            "backgroundcolor": "rgb(17,17,17)",
            "gridcolor": "#506784",
            "gridwidth": 2,
            "linecolor": "#506784",
            "showbackground": true,
            "ticks": "",
            "zerolinecolor": "#C8D4E3"
           },
           "zaxis": {
            "backgroundcolor": "rgb(17,17,17)",
            "gridcolor": "#506784",
            "gridwidth": 2,
            "linecolor": "#506784",
            "showbackground": true,
            "ticks": "",
            "zerolinecolor": "#C8D4E3"
           }
          },
          "shapedefaults": {
           "line": {
            "color": "#f2f5fa"
           }
          },
          "sliderdefaults": {
           "bgcolor": "#C8D4E3",
           "bordercolor": "rgb(17,17,17)",
           "borderwidth": 1,
           "tickwidth": 0
          },
          "ternary": {
           "aaxis": {
            "gridcolor": "#506784",
            "linecolor": "#506784",
            "ticks": ""
           },
           "baxis": {
            "gridcolor": "#506784",
            "linecolor": "#506784",
            "ticks": ""
           },
           "bgcolor": "rgb(17,17,17)",
           "caxis": {
            "gridcolor": "#506784",
            "linecolor": "#506784",
            "ticks": ""
           }
          },
          "title": {
           "x": 0.05
          },
          "updatemenudefaults": {
           "bgcolor": "#506784",
           "borderwidth": 0
          },
          "xaxis": {
           "automargin": true,
           "gridcolor": "#283442",
           "linecolor": "#506784",
           "ticks": "",
           "title": {
            "standoff": 15
           },
           "zerolinecolor": "#283442",
           "zerolinewidth": 2
          },
          "yaxis": {
           "automargin": true,
           "gridcolor": "#283442",
           "linecolor": "#506784",
           "ticks": "",
           "title": {
            "standoff": 15
           },
           "zerolinecolor": "#283442",
           "zerolinewidth": 2
          }
         }
        },
        "title": {
         "text": "Feature Importances"
        },
        "xaxis": {
         "tickangle": -45,
         "title": {
          "text": "Features"
         }
        },
        "yaxis": {
         "title": {
          "text": "Importance"
         }
        }
       }
      }
     },
     "metadata": {},
     "output_type": "display_data"
    }
   ],
   "source": [
    "rfc.get_feature_importance(X)"
   ]
  },
  {
   "cell_type": "code",
   "execution_count": 20,
   "metadata": {},
   "outputs": [
    {
     "name": "stdout",
     "output_type": "stream",
     "text": [
      "38360\n"
     ]
    }
   ],
   "source": [
    "data = X.join(y)\n",
    "# X_test_backup['close']\n",
    "close = data['close']\n",
    "\n",
    "print(len(y_pred))\n",
    "\n",
    "# y_pred = pd.Series(y_pred)\n",
    "# pf = vbt.Portfolio.from_signals(\n",
    "#     data.loc[data.index, 'close'],\n",
    "#     y_pred == 1,\n",
    "#     y_pred == 2,\n",
    "#     freq=freq,\n",
    "#     init_cash=1,\n",
    "# )\n",
    "# print(pf.stats())\n",
    "\n",
    "\n"
   ]
  },
  {
   "cell_type": "code",
   "execution_count": null,
   "metadata": {},
   "outputs": [],
   "source": [
    "rfc.do_rfe(X_train, y_train, n_features=7)\n"
   ]
  }
 ],
 "metadata": {
  "kernelspec": {
   "display_name": "vctr",
   "language": "python",
   "name": "python3"
  },
  "language_info": {
   "codemirror_mode": {
    "name": "ipython",
    "version": 3
   },
   "file_extension": ".py",
   "mimetype": "text/x-python",
   "name": "python",
   "nbconvert_exporter": "python",
   "pygments_lexer": "ipython3",
   "version": "3.10.8"
  },
  "orig_nbformat": 4
 },
 "nbformat": 4,
 "nbformat_minor": 2
}
