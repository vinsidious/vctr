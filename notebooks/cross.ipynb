{
 "cells": [
  {
   "cell_type": "code",
   "execution_count": 2,
   "metadata": {},
   "outputs": [],
   "source": [
    "import numpy as np\n",
    "import pandas as pd\n",
    "import vectorbtpro as vbt\n",
    "\n",
    "from vctr.data.data_loader import get_data\n",
    "from vctr.data.labeling import label_data\n",
    "from vctr.features.feature_engineering import add_features"
   ]
  },
  {
   "cell_type": "code",
   "execution_count": 3,
   "metadata": {},
   "outputs": [],
   "source": [
    "df = get_data('FTM', '1h')\n"
   ]
  },
  {
   "cell_type": "code",
   "execution_count": 4,
   "metadata": {},
   "outputs": [],
   "source": [
    "import numpy as np\n",
    "import pandas as pd\n",
    "import pandas_ta as ta\n",
    "import plotly.graph_objs as go\n",
    "from plotly.subplots import make_subplots\n",
    "\n",
    "\n",
    "def calc_ema(series, period):\n",
    "    series = pd.Series(series)\n",
    "    ema = ta.ema(series, period)\n",
    "    # Calculate the expanding mean (simple average) up to each point in the 'close' series\n",
    "    expanding_mean = series.expanding().mean()\n",
    "    # Replace the NaN values in the SMA with the corresponding expanding mean values\n",
    "    ema = ema.combine_first(expanding_mean)\n",
    "    ema.index = df.index\n",
    "    return ema\n",
    "\n",
    "\n",
    "# RSI settings\n",
    "rsi_length = 14\n",
    "rsi_source = df['close']\n",
    "\n",
    "# MA settings\n",
    "ma_type = 'SMA'  # You can change this to any of the supported types: \"SMA\", \"Bollinger Bands\", \"EMA\", \"SMMA (RMA)\", \"WMA\", \"VWMA\"\n",
    "ma_length = 14\n",
    "bb_stddev = 2.0\n",
    "\n",
    "# Calculate RSI\n",
    "delta = rsi_source.diff()\n",
    "gain = np.where(delta > 0, delta, 0)\n",
    "loss = np.where(delta < 0, -delta, 0)\n",
    "\n",
    "avg_gain = calc_ema(gain, rsi_length)\n",
    "avg_loss = calc_ema(loss, rsi_length)\n",
    "rs = avg_gain / avg_loss\n",
    "\n",
    "rsi = 100 - (100 / (1 + rs))\n",
    "\n",
    "# Calculate moving average\n",
    "if ma_type == 'SMA':\n",
    "    rsi_ma = ta.sma(rsi, ma_length)\n",
    "elif ma_type == 'Bollinger Bands':\n",
    "    rsi_ma = ta.sma(rsi, ma_length)\n",
    "elif ma_type == 'EMA':\n",
    "    rsi_ma = ta.ema(rsi, ma_length)\n",
    "elif ma_type == 'SMMA (RMA)':\n",
    "    rsi_ma = ta.rma(rsi, ma_length)\n",
    "elif ma_type == 'WMA':\n",
    "    rsi_ma = ta.wma(rsi, ma_length)\n",
    "elif ma_type == 'VWMA':\n",
    "    rsi_ma = ta.vwma(df['close'], df['volume'], ma_length)\n",
    "\n",
    "# Bollinger Bands\n",
    "if ma_type == 'Bollinger Bands':\n",
    "    rsi_std = ta.stdev(rsi, ma_length)\n",
    "    bb_upper_band = rsi_ma + rsi_std * bb_stddev\n",
    "    bb_lower_band = rsi_ma - rsi_std * bb_stddev\n"
   ]
  }
 ],
 "metadata": {
  "kernelspec": {
   "display_name": "vctr",
   "language": "python",
   "name": "python3"
  },
  "language_info": {
   "codemirror_mode": {
    "name": "ipython",
    "version": 3
   },
   "file_extension": ".py",
   "mimetype": "text/x-python",
   "name": "python",
   "nbconvert_exporter": "python",
   "pygments_lexer": "ipython3",
   "version": "3.9.16"
  },
  "orig_nbformat": 4
 },
 "nbformat": 4,
 "nbformat_minor": 2
}
