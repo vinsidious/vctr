{
 "cells": [
  {
   "cell_type": "code",
   "execution_count": null,
   "metadata": {},
   "outputs": [],
   "source": [
    "from langchain.document_loaders import DirectoryLoader\n",
    "from langchain.indexes import VectorstoreIndexCreator\n",
    "from langchain.document_loaders import TextLoader\n",
    "from langchain.vectorstores import Chroma\n",
    "from langchain.embeddings.openai import OpenAIEmbeddings\n",
    "\n",
    "# embeddings = OpenAIEmbeddings()\n",
    "# vectorstore = Chroma('langchain_store', embeddings, persist_directory='/Users/vince/vctr/duckdb')\n",
    "loader = DirectoryLoader('/Users/vince/Downloads/cw1', recursive=True, loader_cls=TextLoader)\n",
    "index = VectorstoreIndexCreator(\n",
    "    vectorstore_kwargs=dict(collection_name='cw1_vector_store', persist_directory='/Users/vince/vctr/duckdb')\n",
    ").from_loaders([loader])"
   ]
  },
  {
   "cell_type": "code",
   "execution_count": 7,
   "metadata": {},
   "outputs": [
    {
     "data": {
      "text/markdown": [
       "I'm sorry, but your question is unclear. What specifically are you referring to? Can you please provide more context or information?"
      ],
      "text/plain": [
       "<IPython.core.display.Markdown object>"
      ]
     },
     "metadata": {},
     "output_type": "display_data"
    }
   ],
   "source": [
    "from langchain.chat_models import ChatOpenAI\n",
    "from IPython.display import display\n",
    "from IPython.display import Markdown\n",
    "\n",
    "query = '''\n",
    "\n",
    "Where is that located?\n",
    "\n",
    "'''\n",
    "# query = 'Act as a Software Engineer. Using Python, refactor this code by breaking common functionality out into smaller, well-named functions.'\n",
    "response = index.query(query, llm=ChatOpenAI(temperature=1))\n",
    "\n",
    "display(Markdown(str(response)))\n"
   ]
  }
 ],
 "metadata": {
  "kernelspec": {
   "display_name": "v2",
   "language": "python",
   "name": "python3"
  },
  "language_info": {
   "codemirror_mode": {
    "name": "ipython",
    "version": 3
   },
   "file_extension": ".py",
   "mimetype": "text/x-python",
   "name": "python",
   "nbconvert_exporter": "python",
   "pygments_lexer": "ipython3",
   "version": "3.10.8"
  },
  "orig_nbformat": 4
 },
 "nbformat": 4,
 "nbformat_minor": 2
}
