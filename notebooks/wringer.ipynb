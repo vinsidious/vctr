{
 "cells": [
  {
   "cell_type": "code",
   "execution_count": null,
   "metadata": {},
   "outputs": [],
   "source": [
    "import pandas as pd\n",
    "import random\n",
    "from datetime import timedelta\n",
    "import vectorbtpro as vbt\n",
    "\n",
    "from vctr.trading.utils.misc import tradable_coins\n",
    "from models.lstm.main import load_model, save_model, predict\n",
    "\n",
    "# save_model(model, 'lstm-prod-mk-8')\n",
    "model = load_model('latest')\n",
    "\n",
    "\n",
    "def backtest_segment(df):\n",
    "    pf = vbt.Portfolio.from_signals(\n",
    "        df['close'],\n",
    "        df['pred'] == 1,\n",
    "        df['pred'] == 2,\n",
    "        freq='1h',\n",
    "        init_cash=10000,\n",
    "        tsl_stop=0.005,\n",
    "        sl_stop=0.05,\n",
    "        fees=0.0006,\n",
    "        slippage=0.001,\n",
    "    )\n",
    "    return pf.stats('total_return').values[0]\n",
    "\n",
    "\n",
    "def the_wringer(symbol):\n",
    "    # Step 1: Get the data for the symbol\n",
    "    df = predict(model, symbol, '1h', start='2017-01-01')\n",
    "\n",
    "    # Step 2: Initialize an empty dataframe to store the results\n",
    "    results_df = pd.DataFrame(columns=['symbol', 'start_date', 'end_date', 'return_pct'])\n",
    "\n",
    "    # Step 3: Define the number of permutations and the maximum segment length\n",
    "    num_permutations = 1000\n",
    "    max_segment_length = 365  # in days\n",
    "\n",
    "    # Step 4: Loop through each permutation\n",
    "    for _ in range(num_permutations):\n",
    "        # Step 5: Choose a random start date\n",
    "        start_date = df.index[random.randint(0, len(df) - max_segment_length)]\n",
    "\n",
    "        # Step 6: Choose a random end date between start_date and the minimum of the current maximum date in the dataset and start_date plus max_segment_length days\n",
    "        max_end_date = min(start_date + timedelta(days=max_segment_length), df.index.max())\n",
    "        end_date = start_date + timedelta(days=random.randint(1, (max_end_date - start_date).days))\n",
    "\n",
    "        # Step 7: Slice the dataframe using the start and end dates\n",
    "        slice_df = df.loc[start_date:end_date]\n",
    "\n",
    "        # Step 8: Call the backtest_segment function and store the result\n",
    "        return_pct = backtest_segment(slice_df)\n",
    "        result = {\n",
    "            'symbol': symbol,\n",
    "            'start_date': start_date,\n",
    "            'end_date': end_date,\n",
    "            'duration': end_date - start_date,\n",
    "            'return_pct': return_pct,\n",
    "        }\n",
    "\n",
    "        results_df = pd.concat([results_df, pd.DataFrame(result, index=[0])], ignore_index=True)\n",
    "\n",
    "    # Step 9: Return the results dataframe\n",
    "    return results_df\n"
   ]
  },
  {
   "cell_type": "code",
   "execution_count": null,
   "metadata": {},
   "outputs": [],
   "source": [
    "import random\n",
    "from models.lstm.main import load_model\n",
    "\n",
    "# model = load_model('lstm-prod-mk-8')\n",
    "\n",
    "res = the_wringer(random.choice(tradable_coins))\n",
    "res.sort_values('return_pct', ascending=True).head(10)\n",
    "res[res['return_pct'] < 0].count()\n"
   ]
  },
  {
   "cell_type": "code",
   "execution_count": null,
   "metadata": {},
   "outputs": [],
   "source": [
    "res.sort_values('return_pct', ascending=True).head(22)"
   ]
  }
 ],
 "metadata": {
  "language_info": {
   "name": "python"
  },
  "orig_nbformat": 4
 },
 "nbformat": 4,
 "nbformat_minor": 2
}
