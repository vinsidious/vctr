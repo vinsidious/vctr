{
 "cells": [
  {
   "cell_type": "code",
   "execution_count": 1,
   "metadata": {},
   "outputs": [
    {
     "name": "stderr",
     "output_type": "stream",
     "text": [
      "2023-04-05 03:48:21.380 WARNING llama_index.llm_predictor.base: Unknown max input size for gpt-3.5-turbo, using defaults.\n",
      "2023-04-05 03:48:42.747 INFO    llama_index.token_counter.token_counter: > [build_index_from_nodes] Total LLM token usage: 0 tokens\n",
      "2023-04-05 03:48:42.748 INFO    llama_index.token_counter.token_counter: > [build_index_from_nodes] Total embedding token usage: 619809 tokens\n"
     ]
    }
   ],
   "source": [
    "import streamlit as st\n",
    "from langchain.chat_models import ChatOpenAI\n",
    "from llama_index import GPTSimpleVectorIndex, LLMPredictor, ServiceContext, SimpleDirectoryReader\n",
    "\n",
    "LLM_INDEX_PATH = '/Users/vince/vctr/cw1_index.json'\n",
    "\n",
    "llm_predictor = LLMPredictor(llm=ChatOpenAI(temperature=0.8, verbose=True))\n",
    "service_context = ServiceContext.from_defaults(llm_predictor=llm_predictor)\n",
    "documents = SimpleDirectoryReader('/Users/vince/Downloads/cw1', recursive=True).load_data()\n",
    "index = GPTSimpleVectorIndex.from_documents(documents, service_context=service_context)\n",
    "index.save_to_disk(LLM_INDEX_PATH)\n"
   ]
  },
  {
   "cell_type": "code",
   "execution_count": null,
   "metadata": {},
   "outputs": [],
   "source": [
    "index = GPTSimpleVectorIndex.load_from_disk('index.json')"
   ]
  },
  {
   "cell_type": "code",
   "execution_count": null,
   "metadata": {},
   "outputs": [],
   "source": [
    "from llama_index import download_loader\n",
    "\n",
    "SimpleWebPageReader = download_loader(\"SimpleWebPageReader\")"
   ]
  },
  {
   "cell_type": "code",
   "execution_count": null,
   "metadata": {},
   "outputs": [],
   "source": [
    "from llama_index import GPTSimpleVectorIndex, download_loader\n",
    "from langchain.agents import initialize_agent, Tool\n",
    "from langchain.chat_models import ChatOpenAI\n",
    "from langchain.chains.conversation.memory import ConversationBufferMemory\n",
    "import pickle\n",
    "\n",
    "with open('list_file.pickle', 'rb') as f:\n",
    "    links = list(pickle.load(f))\n",
    "\n",
    "SimpleWebPageReader = download_loader('SimpleWebPageReader')\n",
    "\n",
    "loader = SimpleWebPageReader()\n",
    "documents = loader.load_data(urls=links)\n",
    "index = GPTSimpleVectorIndex.from_documents(documents)\n",
    "\n",
    "tools = [\n",
    "    Tool(\n",
    "        name='Website Index',\n",
    "        func=lambda q: index.query(q),\n",
    "        description=f'Useful when you want answer questions about the text on websites.',\n",
    "    ),\n",
    "]\n",
    "llm = ChatOpenAI(temperature=0.95)\n",
    "memory = ConversationBufferMemory(memory_key='chat_history')\n",
    "agent = initialize_agent(tools, llm, agent='zero-shot-react-description', memory=memory)\n",
    "\n",
    "# # Save the agent chain to disk\n",
    "# agent.save_agent('agent.json')\n",
    "\n",
    "# output = agent_chain.run(input='What language is on this website?')\n"
   ]
  },
  {
   "cell_type": "code",
   "execution_count": 19,
   "metadata": {},
   "outputs": [],
   "source": [
    "index.save_to_disk('/Users/vince/vctr/vbt_index.json')"
   ]
  },
  {
   "cell_type": "code",
   "execution_count": null,
   "metadata": {},
   "outputs": [],
   "source": [
    "import dill\n",
    "with open('agent.pickle', 'wb') as f:\n",
    "    dill.dump(agent, f)"
   ]
  },
  {
   "cell_type": "code",
   "execution_count": null,
   "metadata": {},
   "outputs": [],
   "source": [
    "from IPython.display import display\n",
    "from IPython.display import Markdown\n",
    "\n",
    "query = \"\"\"\n",
    "\n",
    "Improve the data fetching code\n",
    "\n",
    "\"\"\"\n",
    "\n",
    "response = index.query(query, verbose=True)\n",
    "\n",
    "display(Markdown(str(response)))"
   ]
  }
 ],
 "metadata": {
  "kernelspec": {
   "display_name": "v2",
   "language": "python",
   "name": "python3"
  },
  "language_info": {
   "codemirror_mode": {
    "name": "ipython",
    "version": 3
   },
   "file_extension": ".py",
   "mimetype": "text/x-python",
   "name": "python",
   "nbconvert_exporter": "python",
   "pygments_lexer": "ipython3",
   "version": "3.10.8"
  },
  "orig_nbformat": 4
 },
 "nbformat": 4,
 "nbformat_minor": 2
}
