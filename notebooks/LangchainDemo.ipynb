{
 "cells": [
  {
   "cell_type": "code",
   "execution_count": null,
   "id": "c1568569",
   "metadata": {},
   "outputs": [],
   "source": [
    "import logging\n",
    "import sys\n",
    "\n",
    "logging.basicConfig(stream=sys.stdout, level=logging.INFO)\n",
    "logging.getLogger().addHandler(logging.StreamHandler(stream=sys.stdout))"
   ]
  },
  {
   "cell_type": "code",
   "execution_count": null,
   "id": "12af1b0e-983f-4fc1-b5b4-2edeb2e8f07e",
   "metadata": {},
   "outputs": [],
   "source": [
    "from langchain.agents import Tool\n",
    "from langchain.chains.conversation.memory import ConversationBufferMemory\n",
    "from langchain.chat_models import ChatOpenAI\n",
    "from langchain.agents import initialize_agent\n",
    "\n",
    "from llama_index import GPTSimpleVectorIndex"
   ]
  },
  {
   "cell_type": "code",
   "execution_count": null,
   "id": "6f6651ac",
   "metadata": {},
   "outputs": [],
   "source": [
    "index = GPTSimpleVectorIndex.load_from_disk('index.json')"
   ]
  },
  {
   "cell_type": "code",
   "execution_count": null,
   "id": "8c9b3567-c95c-473d-afc0-516b5f35e197",
   "metadata": {},
   "outputs": [],
   "source": [
    "tools = [\n",
    "    Tool(\n",
    "        name = \"GPT Index\",\n",
    "        func=lambda q: str(index.query(q)),\n",
    "        description=\"Useful for when you have questions about vectorbtpro and its documentation.\",\n",
    "        return_direct=True\n",
    "    ),\n",
    "]"
   ]
  },
  {
   "cell_type": "code",
   "execution_count": null,
   "id": "374e9f69-1f75-4a62-afdc-22f748d4bddd",
   "metadata": {},
   "outputs": [],
   "source": [
    "# set Logging to DEBUG for more detailed outputs\n",
    "memory = ConversationBufferMemory(memory_key=\"chat_history\")\n",
    "llm=ChatOpenAI(temperature=0.66)\n",
    "agent_chain = initialize_agent(tools, llm, agent=\"conversational-react-description\", memory=memory)"
   ]
  },
  {
   "cell_type": "code",
   "execution_count": null,
   "id": "579fbc9f-9f13-416c-bde4-7e56fb899727",
   "metadata": {},
   "outputs": [],
   "source": [
    "agent_chain.run(input=\"hi, i am vince\")"
   ]
  },
  {
   "cell_type": "code",
   "execution_count": null,
   "id": "a9841c8e-f90b-4e40-a2f9-ad1e98bb9eef",
   "metadata": {},
   "outputs": [],
   "source": [
    "agent_chain.run(input=\"What does 'isf' mean in the context of lxb and cw1?\")"
   ]
  },
  {
   "cell_type": "markdown",
   "id": "7c02eb88-5a4a-4694-9b77-cd46adc691f5",
   "metadata": {},
   "source": [
    "#### Using GPT Index as a memory module"
   ]
  },
  {
   "cell_type": "code",
   "execution_count": 10,
   "id": "e06a04c1-c5fa-482c-b4d7-9b3fa0f904af",
   "metadata": {},
   "outputs": [],
   "source": [
    "# try using GPT List Index!\n",
    "from langchain import OpenAI\n",
    "from langchain.llms import OpenAIChat\n",
    "from langchain.agents import initialize_agent\n",
    "\n",
    "from llama_index import GPTListIndex\n",
    "from llama_index.langchain_helpers.memory_wrapper import GPTIndexChatMemory"
   ]
  },
  {
   "cell_type": "code",
   "execution_count": 11,
   "id": "25c0b10c-bca4-49f1-9353-646a182050cf",
   "metadata": {},
   "outputs": [
    {
     "name": "stderr",
     "output_type": "stream",
     "text": [
      "/opt/homebrew/Caskroom/miniforge/base/envs/v2/lib/python3.10/site-packages/langchain/llms/openai.py:608: UserWarning: You are trying to use a chat model. This way of initializing it is no longer supported. Instead, please use: `from langchain.chat_models import ChatOpenAI`\n",
      "  warnings.warn(\n"
     ]
    }
   ],
   "source": [
    "# set Logging to DEBUG for more detailed outputs\n",
    "# NOTE: you can also use a conversational chain\n",
    "\n",
    "memory = GPTIndexChatMemory(\n",
    "    index=index, \n",
    "    memory_key=\"chat_history\", \n",
    "    query_kwargs={\"response_mode\": \"compact\"},\n",
    "    # return_source returns source nodes instead of querying index\n",
    "    return_source=True,\n",
    "    # return_messages returns context in message format\n",
    "    return_messages=True\n",
    ")\n",
    "llm = OpenAIChat(temperature=0)\n",
    "# llm=OpenAI(temperature=0)\n",
    "agent_chain = initialize_agent([], llm, agent=\"conversational-react-description\", memory=memory)"
   ]
  },
  {
   "cell_type": "code",
   "execution_count": 12,
   "id": "94e05790",
   "metadata": {},
   "outputs": [
    {
     "name": "stdout",
     "output_type": "stream",
     "text": [
      "INFO:llama_index.token_counter.token_counter:> [query] Total LLM token usage: 3736 tokens\n",
      "> [query] Total LLM token usage: 3736 tokens\n",
      "> [query] Total LLM token usage: 3736 tokens\n",
      "INFO:llama_index.token_counter.token_counter:> [query] Total embedding token usage: 17 tokens\n",
      "> [query] Total embedding token usage: 17 tokens\n",
      "> [query] Total embedding token usage: 17 tokens\n"
     ]
    },
    {
     "name": "stderr",
     "output_type": "stream",
     "text": [
      "/opt/homebrew/Caskroom/miniforge/base/envs/v2/lib/python3.10/site-packages/llama_index/data_structs/node_v2.py:140: UserWarning: .doc_id is deprecated, use .node.ref_doc_id instead\n",
      "  warnings.warn(\".doc_id is deprecated, use .node.ref_doc_id instead\")\n"
     ]
    },
    {
     "name": "stdout",
     "output_type": "stream",
     "text": [
      "INFO:llama_index.token_counter.token_counter:> [insert] Total LLM token usage: 0 tokens\n",
      "> [insert] Total LLM token usage: 0 tokens\n",
      "> [insert] Total LLM token usage: 0 tokens\n",
      "INFO:llama_index.token_counter.token_counter:> [insert] Total embedding token usage: 19 tokens\n",
      "> [insert] Total embedding token usage: 19 tokens\n",
      "> [insert] Total embedding token usage: 19 tokens\n",
      "INFO:llama_index.token_counter.token_counter:> [insert] Total LLM token usage: 0 tokens\n",
      "> [insert] Total LLM token usage: 0 tokens\n",
      "> [insert] Total LLM token usage: 0 tokens\n",
      "INFO:llama_index.token_counter.token_counter:> [insert] Total embedding token usage: 62 tokens\n",
      "> [insert] Total embedding token usage: 62 tokens\n",
      "> [insert] Total embedding token usage: 62 tokens\n"
     ]
    },
    {
     "data": {
      "text/plain": [
       "\"'isf' could stand for many things depending on the context. However, without more information about 'lxb' and 'cw1', it is difficult to provide a specific answer. Can you provide more context or information about what 'lxb' and 'cw1' refer to?\""
      ]
     },
     "execution_count": 12,
     "metadata": {},
     "output_type": "execute_result"
    }
   ],
   "source": [
    "agent_chain.run(input=\"What does 'isf' mean in the context of lxb and cw1?\")"
   ]
  }
 ],
 "metadata": {
  "kernelspec": {
   "display_name": "Python 3 (ipykernel)",
   "language": "python",
   "name": "python3"
  },
  "language_info": {
   "codemirror_mode": {
    "name": "ipython",
    "version": 3
   },
   "file_extension": ".py",
   "mimetype": "text/x-python",
   "name": "python",
   "nbconvert_exporter": "python",
   "pygments_lexer": "ipython3",
   "version": "3.10.8"
  }
 },
 "nbformat": 4,
 "nbformat_minor": 5
}
