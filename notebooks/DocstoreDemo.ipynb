{
 "cells": [
  {
   "cell_type": "code",
   "execution_count": null,
   "id": "a54d1c43-4b7f-4917-939f-a964f6f3dafc",
   "metadata": {
    "tags": []
   },
   "outputs": [],
   "source": [
    "import nest_asyncio\n",
    "nest_asyncio.apply()"
   ]
  },
  {
   "cell_type": "code",
   "execution_count": null,
   "id": "fa67fa07-1395-4aab-a356-72bdb302f6b2",
   "metadata": {
    "tags": []
   },
   "outputs": [],
   "source": [
    "import logging\n",
    "import sys\n",
    "\n",
    "logging.basicConfig(stream=sys.stdout, level=logging.INFO)\n",
    "logging.getLogger().addHandler(logging.StreamHandler(stream=sys.stdout))"
   ]
  },
  {
   "cell_type": "code",
   "execution_count": null,
   "id": "1d12d766-3ca8-4012-9da2-248be80bb6ab",
   "metadata": {
    "tags": []
   },
   "outputs": [],
   "source": [
    "# from gpt_index.composability.joint_qa_summary import QASummaryGraphBuilder\n",
    "from llama_index import SimpleDirectoryReader, ServiceContext, LLMPredictor\n",
    "from llama_index import GPTSimpleVectorIndex, GPTListIndex, GPTSimpleKeywordTableIndex\n",
    "from llama_index.composability import ComposableGraph\n",
    "from langchain.chat_models import ChatOpenAI\n"
   ]
  },
  {
   "cell_type": "markdown",
   "id": "f6dd9d5f-a601-4097-894e-fe98a0c35a5b",
   "metadata": {},
   "source": [
    "#### Load Documents"
   ]
  },
  {
   "cell_type": "code",
   "execution_count": null,
   "id": "e7cdaf9d-cfbd-4ced-8d4e-6eef8508224d",
   "metadata": {
    "tags": []
   },
   "outputs": [],
   "source": [
    "reader = SimpleDirectoryReader('/Users/vince/Downloads/cw1', recursive=True)\n",
    "documents = reader.load_data()\n"
   ]
  },
  {
   "cell_type": "markdown",
   "id": "bae82b55-5c9f-432a-9e06-1fccb6f9fc7f",
   "metadata": {},
   "source": [
    "#### Parse into Nodes"
   ]
  },
  {
   "cell_type": "code",
   "execution_count": null,
   "id": "f97e558a-c29f-44ec-ab33-1f481da1a6ef",
   "metadata": {
    "tags": []
   },
   "outputs": [],
   "source": [
    "from llama_index.node_parser import SimpleNodeParser\n",
    "nodes = SimpleNodeParser().get_nodes_from_documents(documents)"
   ]
  },
  {
   "cell_type": "markdown",
   "id": "aff4c8e1-b2ba-4ea6-a8df-978c2788fedc",
   "metadata": {},
   "source": [
    "#### Add to Docstore"
   ]
  },
  {
   "cell_type": "code",
   "execution_count": null,
   "id": "1ba8b0da-67a8-4653-8cdb-09e39583a2d8",
   "metadata": {
    "tags": []
   },
   "outputs": [],
   "source": [
    "from llama_index.docstore import DocumentStore\n",
    "docstore = DocumentStore()\n",
    "docstore.add_documents(nodes)"
   ]
  },
  {
   "cell_type": "markdown",
   "id": "528149c1-5bde-4eba-b75a-e8fa1da17d7c",
   "metadata": {},
   "source": [
    "#### Define Multiple Indexes\n",
    "\n",
    "Each index uses the same underlying Node."
   ]
  },
  {
   "cell_type": "code",
   "execution_count": null,
   "id": "316fb6ac-2031-4d17-9999-ffdb827f46d1",
   "metadata": {
    "tags": []
   },
   "outputs": [],
   "source": [
    "list_index = GPTListIndex(nodes, docstore=docstore)"
   ]
  },
  {
   "cell_type": "code",
   "execution_count": null,
   "id": "9440f405-fa75-4788-bc7c-11d021a0a17b",
   "metadata": {
    "tags": []
   },
   "outputs": [],
   "source": [
    "vector_index = GPTSimpleVectorIndex(nodes, docstore=docstore) "
   ]
  },
  {
   "cell_type": "code",
   "execution_count": null,
   "id": "364ef89f-4ba2-4b1a-b5e5-619e0e8420ef",
   "metadata": {
    "tags": []
   },
   "outputs": [],
   "source": [
    "keyword_table_index = GPTSimpleKeywordTableIndex(nodes, docstore=docstore) "
   ]
  },
  {
   "cell_type": "code",
   "execution_count": null,
   "id": "5c6b2141-fc77-4dec-891b-d4dad0633b35",
   "metadata": {
    "tags": []
   },
   "outputs": [],
   "source": [
    "# NOTE: the docstore sitll has the same nodes\n",
    "len(docstore.docs)"
   ]
  },
  {
   "cell_type": "markdown",
   "id": "d3bf6aaf-3375-4212-8323-777969a918f7",
   "metadata": {},
   "source": [
    "#### Test out some Queries"
   ]
  },
  {
   "cell_type": "code",
   "execution_count": 23,
   "id": "9bba68f3-2743-437e-93b6-ce9ba92e40c3",
   "metadata": {
    "tags": []
   },
   "outputs": [
    {
     "name": "stdout",
     "output_type": "stream",
     "text": [
      "WARNING:llama_index.llm_predictor.base:Unknown max input size for gpt-3.5-turbo, using defaults.\n",
      "Unknown max input size for gpt-3.5-turbo, using defaults.\n"
     ]
    }
   ],
   "source": [
    "llm_predictor_chatgpt = LLMPredictor(llm=ChatOpenAI(temperature=0, max_tokens=4000))\n",
    "service_context_chatgpt = ServiceContext.from_defaults(llm_predictor=llm_predictor_chatgpt)"
   ]
  },
  {
   "cell_type": "code",
   "execution_count": 24,
   "id": "37524641-2632-4a76-8ae6-00f1285256d9",
   "metadata": {
    "tags": []
   },
   "outputs": [
    {
     "name": "stdout",
     "output_type": "stream",
     "text": [
      "INFO:llama_index.token_counter.token_counter:> [query] Total LLM token usage: 3153 tokens\n",
      "> [query] Total LLM token usage: 3153 tokens\n",
      "INFO:llama_index.token_counter.token_counter:> [query] Total embedding token usage: 111 tokens\n",
      "> [query] Total embedding token usage: 111 tokens\n"
     ]
    },
    {
     "data": {
      "text/markdown": [
       "\n",
       "```\n",
       "const mapTransportJob = (transportJob: Cw1TransportJob, orgIds: OrgIdsMap): LxbTransportJobGraph => {\n",
       "    const addInfoMap = mapAdditionalInfo(transportJob.AddInfoCollection)\n",
       "    const format = addInfoMap['EntryType'] ? parseInt(addInfoMap['EntryType']) : null\n",
       "\n",
       "    const orgAddressCollection = transportJob.OrganizationAddressCollection || null\n",
       "\n",
       "    const shipmentType = addInfoMap['TransportJobShipmentType'] ?\n",
       "        parseInt(addInfoMap['TransportJobShipmentType']) :\n",
       "        null\n",
       "\n",
       "    return {\n",
       "        transportJob: {\n",
       "            referenceId: transportJob.DataContext.DataSourceCollection.DataSource.Key,\n",
       "            uinkCarrierSCAC: addInfoMap['UI_NKCarrierSCAC'],\n",
       "            buyerAddress: mapCw1Address(\n",
       "                findOrgAddress(orgAddressCollection, Cw1AddressType.BUYING_PARTY),\n",
       "            ),\n",
       "            consigneeEntity: mapIsfEntity(addInfoMap, 'Consignee'),\n",
       "            importerEntity: map"
      ],
      "text/plain": [
       "<IPython.core.display.Markdown object>"
      ]
     },
     "metadata": {},
     "output_type": "display_data"
    }
   ],
   "source": [
    "from IPython.display import display\n",
    "from IPython.display import Markdown\n",
    "\n",
    "\n",
    "display(Markdown(str(vector_index.query(\n",
    "\"\"\"                                     \n",
    "Respond to the following request via code using the TypeScript language. Please wrap your response in triple backticks. Before responding, think through your solution step-by-step and ensure that it satisfies the request completely and comprehensively. Request:\n",
    "\n",
    "Similar to what the `mapIsf` function does, create a function to map transport jobs.\n",
    "\"\"\"\n",
    "))))"
   ]
  }
 ],
 "metadata": {
  "kernelspec": {
   "display_name": "v2",
   "language": "python",
   "name": "python3"
  },
  "language_info": {
   "codemirror_mode": {
    "name": "ipython",
    "version": 3
   },
   "file_extension": ".py",
   "mimetype": "text/x-python",
   "name": "python",
   "nbconvert_exporter": "python",
   "pygments_lexer": "ipython3",
   "version": "3.10.8"
  }
 },
 "nbformat": 4,
 "nbformat_minor": 5
}
