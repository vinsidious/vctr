{
 "cells": [
  {
   "cell_type": "code",
   "execution_count": 1,
   "metadata": {},
   "outputs": [],
   "source": [
    "from vctr.trading.client import binance_client\n",
    "from trading.engine import TradeEngine\n",
    "\n",
    "e = TradeEngine()\n",
    "# e._intermediary_bal_info()"
   ]
  },
  {
   "cell_type": "code",
   "execution_count": 2,
   "metadata": {},
   "outputs": [
    {
     "name": "stdout",
     "output_type": "stream",
     "text": [
      "Checking for new buy/sell signals...\n",
      "Signaled to buy ANKR\n"
     ]
    }
   ],
   "source": [
    "e._run_trading_strategies()"
   ]
  },
  {
   "cell_type": "code",
   "execution_count": null,
   "metadata": {},
   "outputs": [],
   "source": [
    "e._close_trade('MATIC')"
   ]
  },
  {
   "cell_type": "code",
   "execution_count": 1,
   "metadata": {},
   "outputs": [],
   "source": [
    "from vctr.trading.utils.main import get_symbols_with_min_volume\n",
    "\n",
    "\n",
    "symbols = get_symbols_with_min_volume(250000)"
   ]
  },
  {
   "cell_type": "code",
   "execution_count": 2,
   "metadata": {},
   "outputs": [
    {
     "data": {
      "text/plain": [
       "['BTC',\n",
       " 'ETH',\n",
       " 'LTC',\n",
       " 'USDT',\n",
       " 'BNB',\n",
       " 'ADA',\n",
       " 'XLM',\n",
       " 'LINK',\n",
       " 'BUSD',\n",
       " 'ATOM',\n",
       " 'ICX',\n",
       " 'ZIL',\n",
       " 'VET',\n",
       " 'HBAR',\n",
       " 'MATIC',\n",
       " 'DOGE',\n",
       " 'USDC',\n",
       " 'ONE',\n",
       " 'SOL',\n",
       " 'AVAX',\n",
       " 'DOT',\n",
       " 'FTM',\n",
       " 'GALA',\n",
       " 'OP',\n",
       " 'ACH',\n",
       " 'RNDR',\n",
       " 'MASK']"
      ]
     },
     "execution_count": 2,
     "metadata": {},
     "output_type": "execute_result"
    }
   ],
   "source": [
    "symbols"
   ]
  }
 ],
 "metadata": {
  "kernelspec": {
   "display_name": "v2",
   "language": "python",
   "name": "python3"
  },
  "language_info": {
   "codemirror_mode": {
    "name": "ipython",
    "version": 3
   },
   "file_extension": ".py",
   "mimetype": "text/x-python",
   "name": "python",
   "nbconvert_exporter": "python",
   "pygments_lexer": "ipython3",
   "version": "3.10.8"
  },
  "orig_nbformat": 4
 },
 "nbformat": 4,
 "nbformat_minor": 2
}
