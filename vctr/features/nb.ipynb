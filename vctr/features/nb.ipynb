{
 "cells": [
  {
   "cell_type": "code",
   "execution_count": 2,
   "metadata": {},
   "outputs": [
    {
     "name": "stdout",
     "output_type": "stream",
     "text": [
      "Trying params: {'period_ma': 4, 'period_signal': 2}, score: 0.9479706645855014\n",
      "New best params: {'period_ma': 4, 'period_signal': 2}, score: 0.9479706645855014\n",
      "Trying params: {'period_ma': 30, 'period_signal': 20}, score: 0.9000123204150724The best parameters are: {'period_ma': 4, 'period_signal': 2} with a score of: 0.9479706645855014\n"
     ]
    }
   ],
   "source": [
    "from vctr.data.data_loader import get_data\n",
    "from vctr.data.labeling import label_data_extrema_multi\n",
    "from vctr.features.feature_engineering import add_imacd\n",
    "from vctr.features.util import CorrelationMeasure, parameter_search\n",
    "\n",
    "df = get_data('BTC', '15m')\n",
    "df = label_data_extrema_multi(df, 0.03, 0.005)\n",
    "\n",
    "best_params, best_score = parameter_search(\n",
    "    df,\n",
    "    indicator_func=add_imacd,\n",
    "    param_dict=dict(period_ma=[4, 30], period_signal=[2, 20]),\n",
    "    correlation_measure=CorrelationMeasure.SPEARMAN,\n",
    ")\n",
    "print(f'The best parameters are: {best_params} with a score of: {best_score}')\n"
   ]
  }
 ],
 "metadata": {
  "kernelspec": {
   "display_name": "v2",
   "language": "python",
   "name": "python3"
  },
  "language_info": {
   "codemirror_mode": {
    "name": "ipython",
    "version": 3
   },
   "file_extension": ".py",
   "mimetype": "text/x-python",
   "name": "python",
   "nbconvert_exporter": "python",
   "pygments_lexer": "ipython3",
   "version": "3.10.8"
  },
  "orig_nbformat": 4
 },
 "nbformat": 4,
 "nbformat_minor": 2
}
